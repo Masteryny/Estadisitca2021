{
  "nbformat": 4,
  "nbformat_minor": 0,
  "metadata": {
    "colab": {
      "name": "Untitled0.ipynb",
      "provenance": [],
      "collapsed_sections": [],
      "authorship_tag": "ABX9TyP2NpsxckWgM0XymftMipDa",
      "include_colab_link": true
    },
    "kernelspec": {
      "name": "python3",
      "display_name": "Python 3"
    },
    "language_info": {
      "name": "python"
    }
  },
  "cells": [
    {
      "cell_type": "markdown",
      "metadata": {
        "id": "view-in-github",
        "colab_type": "text"
      },
      "source": [
        "<a href=\"https://colab.research.google.com/github/Masteryny/Estadisitca2021/blob/main/PracticaSeriesdeTiempo.ipynb\" target=\"_parent\"><img src=\"https://colab.research.google.com/assets/colab-badge.svg\" alt=\"Open In Colab\"/></a>"
      ]
    },
    {
      "cell_type": "code",
      "metadata": {
        "id": "3o0wQyv_j2vD"
      },
      "source": [
        "import numpy as np\n",
        "import pandas as pd\n",
        "import statsmodels.api as sm \n",
        "import seaborn as sns\n",
        "import matplotlib.pyplot as plt\n",
        "from datetime import datetime"
      ],
      "execution_count": 39,
      "outputs": []
    },
    {
      "cell_type": "code",
      "metadata": {
        "id": "grvud_Y229nX"
      },
      "source": [
        "datos=pd.read_csv(\"/content/CSVS/Electric_Production.csv\")"
      ],
      "execution_count": 46,
      "outputs": []
    },
    {
      "cell_type": "code",
      "metadata": {
        "colab": {
          "base_uri": "https://localhost:8080/"
        },
        "id": "qHp2GJ703N2M",
        "outputId": "c1b63264-063c-4ab6-88bf-1ab92f47e44f"
      },
      "source": [
        "datos.dtypes"
      ],
      "execution_count": 47,
      "outputs": [
        {
          "output_type": "execute_result",
          "data": {
            "text/plain": [
              "DATE           object\n",
              "IPG2211A2N    float64\n",
              "dtype: object"
            ]
          },
          "metadata": {
            "tags": []
          },
          "execution_count": 47
        }
      ]
    },
    {
      "cell_type": "code",
      "metadata": {
        "id": "RSN4teVU77BL"
      },
      "source": [
        "datos['Fecha_y_Hora']=datos.DATE\n",
        "datos['fecha_hora']=datos.Fecha_y_Hora.map(lambda x:datetime.strptime(x,'%d/%m/%Y'))"
      ],
      "execution_count": 49,
      "outputs": []
    },
    {
      "cell_type": "code",
      "metadata": {
        "id": "r0FYIqd-_GNe"
      },
      "source": [
        ""
      ],
      "execution_count": null,
      "outputs": []
    },
    {
      "cell_type": "code",
      "metadata": {
        "colab": {
          "base_uri": "https://localhost:8080/"
        },
        "id": "AImkEBQY-clt",
        "outputId": "862bed86-1842-43e9-8514-43cef6b3962c"
      },
      "source": [
        "datos.index=datos.fecha_hora\n",
        "datos = datos.loc['1996-01']\n",
        "datos.head"
      ],
      "execution_count": 50,
      "outputs": [
        {
          "output_type": "execute_result",
          "data": {
            "text/plain": [
              "<bound method NDFrame.head of                  DATE  IPG2211A2N Fecha_y_Hora fecha_hora\n",
              "fecha_hora                                               \n",
              "1996-01-01   1/1/1996     98.9732     1/1/1996 1996-01-01\n",
              "1996-01-02   2/1/1996     92.8883     2/1/1996 1996-01-02\n",
              "1996-01-03   3/1/1996     86.9356     3/1/1996 1996-01-03\n",
              "1996-01-04   4/1/1996     77.2214     4/1/1996 1996-01-04\n",
              "1996-01-05   5/1/1996     76.6826     5/1/1996 1996-01-05\n",
              "1996-01-06   6/1/1996     81.9306     6/1/1996 1996-01-06\n",
              "1996-01-07   7/1/1996     85.9606     7/1/1996 1996-01-07\n",
              "1996-01-08   8/1/1996     86.5562     8/1/1996 1996-01-08\n",
              "1996-01-09   9/1/1996     79.1919     9/1/1996 1996-01-09\n",
              "1996-01-10  10/1/1996     74.6891    10/1/1996 1996-01-10\n",
              "1996-01-11  11/1/1996     81.0740    11/1/1996 1996-01-11\n",
              "1996-01-12  12/1/1996     90.4855    12/1/1996 1996-01-12>"
            ]
          },
          "metadata": {
            "tags": []
          },
          "execution_count": 50
        }
      ]
    }
  ]
}