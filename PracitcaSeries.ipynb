{
  "nbformat": 4,
  "nbformat_minor": 0,
  "metadata": {
    "colab": {
      "name": "Untitled0 (1).ipynb",
      "provenance": [],
      "collapsed_sections": [],
      "include_colab_link": true
    },
    "kernelspec": {
      "name": "python3",
      "display_name": "Python 3"
    },
    "language_info": {
      "name": "python"
    }
  },
  "cells": [
    {
      "cell_type": "markdown",
      "metadata": {
        "id": "view-in-github",
        "colab_type": "text"
      },
      "source": [
        "<a href=\"https://colab.research.google.com/github/Masteryny/Estadisitca2021/blob/main/PracitcaSeries.ipynb\" target=\"_parent\"><img src=\"https://colab.research.google.com/assets/colab-badge.svg\" alt=\"Open In Colab\"/></a>"
      ]
    },
    {
      "cell_type": "code",
      "metadata": {
        "id": "3o0wQyv_j2vD"
      },
      "source": [
        "import numpy as np\n",
        "import pandas as pd\n",
        "import statsmodels.api as sm \n",
        "import seaborn as sns\n",
        "import matplotlib.pyplot as plt\n",
        "from datetime import datetime\n",
        "from statsmodels.tsa.statespace.sarimax import SARIMAX"
      ],
      "execution_count": 91,
      "outputs": []
    },
    {
      "cell_type": "code",
      "metadata": {
        "id": "grvud_Y229nX"
      },
      "source": [
        "datos=pd.read_csv('/content/CSVS/DistrictLevelData_V3.csv')"
      ],
      "execution_count": 92,
      "outputs": []
    },
    {
      "cell_type": "code",
      "metadata": {
        "colab": {
          "base_uri": "https://localhost:8080/"
        },
        "id": "qHp2GJ703N2M",
        "outputId": "bd2375a7-720a-436d-a928-bfcacbbdda06"
      },
      "source": [
        "datos.dtypes"
      ],
      "execution_count": 93,
      "outputs": [
        {
          "output_type": "execute_result",
          "data": {
            "text/plain": [
              "Unnamed: 0                      int64\n",
              "Day                            object\n",
              "Weekday                        object\n",
              "District                       object\n",
              "DistrictNumber                  int64\n",
              "Mem                           float64\n",
              "Abs                           float64\n",
              "AttendancePercent             float64\n",
              "AbsentPercent                 float64\n",
              "County                         object\n",
              "TEA_Description                object\n",
              "NCES_Description               object\n",
              "MetroStatus                    object\n",
              "CovidTotalCountyCases           int64\n",
              "CovidCountyPercentIncrease    float64\n",
              "CovidTotalStateCases            int64\n",
              "CovidStatePercentIncrease     float64\n",
              "PRCP                          float64\n",
              "TMAX                          float64\n",
              "TMIN                          float64\n",
              "dtype: object"
            ]
          },
          "metadata": {
            "tags": []
          },
          "execution_count": 93
        }
      ]
    },
    {
      "cell_type": "code",
      "metadata": {
        "id": "RSN4teVU77BL"
      },
      "source": [
        "datos['Fecha_y_Hora']=datos.Day\n",
        "datos['fecha_hora']=datos.Fecha_y_Hora.map(lambda x:datetime.strptime(x,'%d/%m/%Y'))"
      ],
      "execution_count": 94,
      "outputs": []
    },
    {
      "cell_type": "markdown",
      "metadata": {
        "id": "qFGl7O20wmz9"
      },
      "source": [
        ""
      ]
    },
    {
      "cell_type": "code",
      "metadata": {
        "colab": {
          "base_uri": "https://localhost:8080/",
          "height": 347
        },
        "id": "AImkEBQY-clt",
        "outputId": "5cbd0097-59fe-40a3-85bb-b94401ec770e"
      },
      "source": [
        "datos.index=datos.fecha_hora\n",
        "datos = datos.loc['2020-09']\n",
        "datos.head()"
      ],
      "execution_count": 95,
      "outputs": [
        {
          "output_type": "execute_result",
          "data": {
            "text/html": [
              "<div>\n",
              "<style scoped>\n",
              "    .dataframe tbody tr th:only-of-type {\n",
              "        vertical-align: middle;\n",
              "    }\n",
              "\n",
              "    .dataframe tbody tr th {\n",
              "        vertical-align: top;\n",
              "    }\n",
              "\n",
              "    .dataframe thead th {\n",
              "        text-align: right;\n",
              "    }\n",
              "</style>\n",
              "<table border=\"1\" class=\"dataframe\">\n",
              "  <thead>\n",
              "    <tr style=\"text-align: right;\">\n",
              "      <th></th>\n",
              "      <th>Unnamed: 0</th>\n",
              "      <th>Day</th>\n",
              "      <th>Weekday</th>\n",
              "      <th>District</th>\n",
              "      <th>DistrictNumber</th>\n",
              "      <th>Mem</th>\n",
              "      <th>Abs</th>\n",
              "      <th>AttendancePercent</th>\n",
              "      <th>AbsentPercent</th>\n",
              "      <th>County</th>\n",
              "      <th>TEA_Description</th>\n",
              "      <th>NCES_Description</th>\n",
              "      <th>MetroStatus</th>\n",
              "      <th>CovidTotalCountyCases</th>\n",
              "      <th>CovidCountyPercentIncrease</th>\n",
              "      <th>CovidTotalStateCases</th>\n",
              "      <th>CovidStatePercentIncrease</th>\n",
              "      <th>PRCP</th>\n",
              "      <th>TMAX</th>\n",
              "      <th>TMIN</th>\n",
              "      <th>Fecha_y_Hora</th>\n",
              "      <th>fecha_hora</th>\n",
              "    </tr>\n",
              "    <tr>\n",
              "      <th>fecha_hora</th>\n",
              "      <th></th>\n",
              "      <th></th>\n",
              "      <th></th>\n",
              "      <th></th>\n",
              "      <th></th>\n",
              "      <th></th>\n",
              "      <th></th>\n",
              "      <th></th>\n",
              "      <th></th>\n",
              "      <th></th>\n",
              "      <th></th>\n",
              "      <th></th>\n",
              "      <th></th>\n",
              "      <th></th>\n",
              "      <th></th>\n",
              "      <th></th>\n",
              "      <th></th>\n",
              "      <th></th>\n",
              "      <th></th>\n",
              "      <th></th>\n",
              "      <th></th>\n",
              "      <th></th>\n",
              "    </tr>\n",
              "  </thead>\n",
              "  <tbody>\n",
              "    <tr>\n",
              "      <th>2020-09-01</th>\n",
              "      <td>12</td>\n",
              "      <td>1/09/2020</td>\n",
              "      <td>Tuesday</td>\n",
              "      <td>CONROE ISD</td>\n",
              "      <td>170902</td>\n",
              "      <td>64059.0</td>\n",
              "      <td>1759.0</td>\n",
              "      <td>97.25</td>\n",
              "      <td>2.75</td>\n",
              "      <td>Montgomery</td>\n",
              "      <td>Other Central City</td>\n",
              "      <td>City-Small</td>\n",
              "      <td>Metro</td>\n",
              "      <td>60312</td>\n",
              "      <td>1.130152</td>\n",
              "      <td>645534</td>\n",
              "      <td>0.814753</td>\n",
              "      <td>0.0</td>\n",
              "      <td>100.0</td>\n",
              "      <td>82.0</td>\n",
              "      <td>1/09/2020</td>\n",
              "      <td>2020-09-01</td>\n",
              "    </tr>\n",
              "    <tr>\n",
              "      <th>2020-09-02</th>\n",
              "      <td>13</td>\n",
              "      <td>2/09/2020</td>\n",
              "      <td>Wednesday</td>\n",
              "      <td>CONROE ISD</td>\n",
              "      <td>170902</td>\n",
              "      <td>64085.0</td>\n",
              "      <td>1680.0</td>\n",
              "      <td>97.38</td>\n",
              "      <td>2.62</td>\n",
              "      <td>Montgomery</td>\n",
              "      <td>Other Central City</td>\n",
              "      <td>City-Small</td>\n",
              "      <td>Metro</td>\n",
              "      <td>60790</td>\n",
              "      <td>0.792545</td>\n",
              "      <td>649844</td>\n",
              "      <td>0.667664</td>\n",
              "      <td>0.0</td>\n",
              "      <td>100.0</td>\n",
              "      <td>83.0</td>\n",
              "      <td>2/09/2020</td>\n",
              "      <td>2020-09-02</td>\n",
              "    </tr>\n",
              "    <tr>\n",
              "      <th>2020-09-03</th>\n",
              "      <td>14</td>\n",
              "      <td>3/09/2020</td>\n",
              "      <td>Thursday</td>\n",
              "      <td>CONROE ISD</td>\n",
              "      <td>170902</td>\n",
              "      <td>64118.0</td>\n",
              "      <td>1859.0</td>\n",
              "      <td>97.10</td>\n",
              "      <td>2.90</td>\n",
              "      <td>Montgomery</td>\n",
              "      <td>Other Central City</td>\n",
              "      <td>City-Small</td>\n",
              "      <td>Metro</td>\n",
              "      <td>61346</td>\n",
              "      <td>0.914624</td>\n",
              "      <td>653321</td>\n",
              "      <td>0.535051</td>\n",
              "      <td>0.0</td>\n",
              "      <td>95.0</td>\n",
              "      <td>80.0</td>\n",
              "      <td>3/09/2020</td>\n",
              "      <td>2020-09-03</td>\n",
              "    </tr>\n",
              "    <tr>\n",
              "      <th>2020-09-04</th>\n",
              "      <td>15</td>\n",
              "      <td>4/09/2020</td>\n",
              "      <td>Friday</td>\n",
              "      <td>CONROE ISD</td>\n",
              "      <td>170902</td>\n",
              "      <td>64145.0</td>\n",
              "      <td>1988.0</td>\n",
              "      <td>96.90</td>\n",
              "      <td>3.10</td>\n",
              "      <td>Montgomery</td>\n",
              "      <td>Other Central City</td>\n",
              "      <td>City-Small</td>\n",
              "      <td>Metro</td>\n",
              "      <td>61983</td>\n",
              "      <td>1.038373</td>\n",
              "      <td>658789</td>\n",
              "      <td>0.836955</td>\n",
              "      <td>0.0</td>\n",
              "      <td>91.0</td>\n",
              "      <td>77.0</td>\n",
              "      <td>4/09/2020</td>\n",
              "      <td>2020-09-04</td>\n",
              "    </tr>\n",
              "    <tr>\n",
              "      <th>2020-09-08</th>\n",
              "      <td>16</td>\n",
              "      <td>8/09/2020</td>\n",
              "      <td>Tuesday</td>\n",
              "      <td>CONROE ISD</td>\n",
              "      <td>170902</td>\n",
              "      <td>64268.0</td>\n",
              "      <td>1701.0</td>\n",
              "      <td>97.35</td>\n",
              "      <td>2.65</td>\n",
              "      <td>Montgomery</td>\n",
              "      <td>Other Central City</td>\n",
              "      <td>City-Small</td>\n",
              "      <td>Metro</td>\n",
              "      <td>63530</td>\n",
              "      <td>2.495846</td>\n",
              "      <td>670427</td>\n",
              "      <td>1.766575</td>\n",
              "      <td>0.0</td>\n",
              "      <td>96.0</td>\n",
              "      <td>75.0</td>\n",
              "      <td>8/09/2020</td>\n",
              "      <td>2020-09-08</td>\n",
              "    </tr>\n",
              "  </tbody>\n",
              "</table>\n",
              "</div>"
            ],
            "text/plain": [
              "            Unnamed: 0        Day    Weekday  ...  TMIN  Fecha_y_Hora  fecha_hora\n",
              "fecha_hora                                    ...                                \n",
              "2020-09-01          12  1/09/2020    Tuesday  ...  82.0     1/09/2020  2020-09-01\n",
              "2020-09-02          13  2/09/2020  Wednesday  ...  83.0     2/09/2020  2020-09-02\n",
              "2020-09-03          14  3/09/2020   Thursday  ...  80.0     3/09/2020  2020-09-03\n",
              "2020-09-04          15  4/09/2020     Friday  ...  77.0     4/09/2020  2020-09-04\n",
              "2020-09-08          16  8/09/2020    Tuesday  ...  75.0     8/09/2020  2020-09-08\n",
              "\n",
              "[5 rows x 22 columns]"
            ]
          },
          "metadata": {
            "tags": []
          },
          "execution_count": 95
        }
      ]
    },
    {
      "cell_type": "code",
      "metadata": {
        "colab": {
          "base_uri": "https://localhost:8080/"
        },
        "id": "zz_33RrKRfGZ",
        "outputId": "e748194c-c2d3-4e1f-f037-3270425839b3"
      },
      "source": [
        "conteo=datos.CovidTotalCountyCases.resample(\"d\").count()\n",
        "conteo"
      ],
      "execution_count": 96,
      "outputs": [
        {
          "output_type": "execute_result",
          "data": {
            "text/plain": [
              "fecha_hora\n",
              "2020-09-01     9\n",
              "2020-09-02     9\n",
              "2020-09-03     9\n",
              "2020-09-04     9\n",
              "2020-09-05     0\n",
              "2020-09-06     0\n",
              "2020-09-07     2\n",
              "2020-09-08    12\n",
              "2020-09-09    12\n",
              "2020-09-10    12\n",
              "2020-09-11    12\n",
              "2020-09-12     0\n",
              "2020-09-13     0\n",
              "2020-09-14    12\n",
              "2020-09-15    12\n",
              "2020-09-16    12\n",
              "2020-09-17    12\n",
              "2020-09-18    12\n",
              "2020-09-19     0\n",
              "2020-09-20     0\n",
              "2020-09-21    12\n",
              "2020-09-22    12\n",
              "2020-09-23    12\n",
              "2020-09-24    12\n",
              "2020-09-25    11\n",
              "2020-09-26     0\n",
              "2020-09-27     0\n",
              "2020-09-28    11\n",
              "2020-09-29    12\n",
              "2020-09-30    12\n",
              "Freq: D, Name: CovidTotalCountyCases, dtype: int64"
            ]
          },
          "metadata": {
            "tags": []
          },
          "execution_count": 96
        }
      ]
    },
    {
      "cell_type": "code",
      "metadata": {
        "colab": {
          "base_uri": "https://localhost:8080/"
        },
        "id": "zhoCGJmSZUi0",
        "outputId": "bbbf5495-661f-4909-bafe-7c1f46b7895e"
      },
      "source": [
        "# Valores de Dias de Semana\n",
        "semana=pd.concat([conteo],axis=1)\n",
        "semana['dayofweek']=semana.index.dayofweek\n",
        "semana\n",
        "\n",
        "lunavier=semana[semana.dayofweek.isin([0,1,2,3,4])].CovidTotalCountyCases\n",
        "lunavier.head(200)"
      ],
      "execution_count": 97,
      "outputs": [
        {
          "output_type": "execute_result",
          "data": {
            "text/plain": [
              "fecha_hora\n",
              "2020-09-01     9\n",
              "2020-09-02     9\n",
              "2020-09-03     9\n",
              "2020-09-04     9\n",
              "2020-09-07     2\n",
              "2020-09-08    12\n",
              "2020-09-09    12\n",
              "2020-09-10    12\n",
              "2020-09-11    12\n",
              "2020-09-14    12\n",
              "2020-09-15    12\n",
              "2020-09-16    12\n",
              "2020-09-17    12\n",
              "2020-09-18    12\n",
              "2020-09-21    12\n",
              "2020-09-22    12\n",
              "2020-09-23    12\n",
              "2020-09-24    12\n",
              "2020-09-25    11\n",
              "2020-09-28    11\n",
              "2020-09-29    12\n",
              "2020-09-30    12\n",
              "Name: CovidTotalCountyCases, dtype: int64"
            ]
          },
          "metadata": {
            "tags": []
          },
          "execution_count": 97
        }
      ]
    },
    {
      "cell_type": "code",
      "metadata": {
        "colab": {
          "base_uri": "https://localhost:8080/",
          "height": 314
        },
        "id": "NhNZ4gjf6P9Q",
        "outputId": "5828cd78-e97c-4daf-8fcd-91a349596f6b"
      },
      "source": [
        "#Grafico de casos Totales de Covid por Estatados\n",
        "lunavier[0:(7*5)].plot()\n",
        "plt.show()"
      ],
      "execution_count": 109,
      "outputs": [
        {
          "output_type": "display_data",
          "data": {
            "image/png": "[encoded data removed]",
            "text/plain": [
              "<Figure size 432x288 with 1 Axes>"
            ]
          },
          "metadata": {
            "tags": [],
            "needs_background": "light"
          }
        }
      ]
    },
    {
      "cell_type": "code",
      "metadata": {
        "colab": {
          "base_uri": "https://localhost:8080/"
        },
        "id": "Po2LMcJb7rCj",
        "outputId": "048e0c05-d455-44a5-ff61-0237413411c3"
      },
      "source": [
        "x=lunavier\n",
        "prediccion = SARIMAX(x,order=(1,1,1), seasonal_order=(1,1,1,4))\n",
        "resultado = prediccion.fit()"
      ],
      "execution_count": 110,
      "outputs": [
        {
          "output_type": "stream",
          "text": [
            "/usr/local/lib/python3.7/dist-packages/statsmodels/tsa/base/tsa_model.py:165: ValueWarning: No frequency information was provided, so inferred frequency B will be used.\n",
            "  % freq, ValueWarning)\n",
            "/usr/local/lib/python3.7/dist-packages/statsmodels/tsa/statespace/sarimax.py:993: UserWarning: Non-invertible starting seasonal moving average Using zeros as starting parameters.\n",
            "  warn('Non-invertible starting seasonal moving average'\n"
          ],
          "name": "stderr"
        }
      ]
    },
    {
      "cell_type": "code",
      "metadata": {
        "colab": {
          "base_uri": "https://localhost:8080/"
        },
        "id": "Hsf4ZQvSC6Va",
        "outputId": "11a65caa-0053-4f96-db8f-e72a35e0ff94"
      },
      "source": [
        "resultado.aic"
      ],
      "execution_count": 111,
      "outputs": [
        {
          "output_type": "execute_result",
          "data": {
            "text/plain": [
              "93.24392951033283"
            ]
          },
          "metadata": {
            "tags": []
          },
          "execution_count": 111
        }
      ]
    },
    {
      "cell_type": "code",
      "metadata": {
        "colab": {
          "base_uri": "https://localhost:8080/",
          "height": 320
        },
        "id": "QRtZz9vkDAO7",
        "outputId": "7c29dd7a-8866-45a6-af3f-531042075daf"
      },
      "source": [
        "analisis=semana.loc['2020-09-25':'2020-09-30']\n",
        "analisis.plot()\n"
      ],
      "execution_count": 140,
      "outputs": [
        {
          "output_type": "execute_result",
          "data": {
            "text/plain": [
              "<matplotlib.axes._subplots.AxesSubplot at 0x7f542c3fd890>"
            ]
          },
          "metadata": {
            "tags": []
          },
          "execution_count": 140
        },
        {
          "output_type": "display_data",
          "data": {
            "image/png": "[encoded data removed]",
            "text/plain": [
              "<Figure size 432x288 with 1 Axes>"
            ]
          },
          "metadata": {
            "tags": [],
            "needs_background": "light"
          }
        }
      ]
    },
    {
      "cell_type": "code",
      "metadata": {
        "id": "UX3mRa2sKY9y"
      },
      "source": [
        ""
      ],
      "execution_count": 76,
      "outputs": []
    }
  ]
}